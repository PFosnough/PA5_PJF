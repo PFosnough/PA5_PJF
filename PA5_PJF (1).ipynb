{
 "cells": [
  {
   "cell_type": "markdown",
   "id": "11844c13",
   "metadata": {},
   "source": [
    "# PA5\n",
    "# Peyton Fosnough\n",
    "# Python 3.0\n",
    "# CS-150-01"
   ]
  },
  {
   "cell_type": "markdown",
   "id": "8f6e9ccd",
   "metadata": {},
   "source": [
    "## a. Language Translator"
   ]
  },
  {
   "cell_type": "code",
   "execution_count": 14,
   "id": "6738c052",
   "metadata": {},
   "outputs": [
    {
     "name": "stdout",
     "output_type": "stream",
     "text": [
      "Give an english word one-twenty for a Spanish translation (Enter 0 to stop): one\n",
      "uno\n",
      "Give an english word one-twenty for a Spanish translation (Enter 0 to stop): eighteen\n",
      "dieciocho\n",
      "Give an english word one-twenty for a Spanish translation (Enter 0 to stop): nine\n",
      "nueve\n",
      "Give an english word one-twenty for a Spanish translation (Enter 0 to stop): 0\n"
     ]
    }
   ],
   "source": [
    "Translator={'one':'uno','two':'dos','three':'tres','four':'cuatro','five':'cinco',\n",
    "            'six':'seis','seven':'siete','eight':'ocho','nine':'nueve','ten':'diez',\n",
    "            'eleven':'once','twelve':'doce','thirteen':'trece','fourtneen':'catorce','fifteen':'quince',\n",
    "            'sixteen':'dieciseis','seventeen':'diecisiete','eighteen':'dieciocho','nineteen':'diecinueve','twenty':'veinte'\n",
    "           }\n",
    "word=input(\"Give an english word one-twenty for a Spanish translation (Enter 0 to stop): \")\n",
    "while True:\n",
    "        if word=='0':\n",
    "            break\n",
    "        else:\n",
    "            print(Translator[word])\n",
    "            word=input(\"Give an english word one-twenty for a Spanish translation (Enter 0 to stop): \")"
   ]
  },
  {
   "cell_type": "markdown",
   "id": "27ad2e28",
   "metadata": {},
   "source": [
    "## b. Temperature Converter"
   ]
  },
  {
   "cell_type": "code",
   "execution_count": 2,
   "id": "1f2a3220",
   "metadata": {},
   "outputs": [
    {
     "name": "stdout",
     "output_type": "stream",
     "text": [
      "{1: 29.444444444444443, 2: 28.333333333333332, 3: 28.88888888888889, 4: 28.88888888888889, 5: 27.77777777777778, 6: 30.555555555555557, 7: 30.0, 8: 29.444444444444443, 9: 27.22222222222222, 10: 27.77777777777778, 11: 28.88888888888889, 12: 30.555555555555557, 13: 31.666666666666668, 14: 32.22222222222222, 15: 28.88888888888889, 16: 29.444444444444443, 17: 31.666666666666668, 18: 31.666666666666668, 19: 30.0, 20: 25.555555555555557, 21: 25.555555555555557, 22: 21.11111111111111, 23: 21.666666666666668, 24: 23.88888888888889, 25: 25.0, 26: 25.0, 27: 29.444444444444443, 28: 30.555555555555557, 29: 32.77777777777778, 30: 30.0}\n",
      "The coolest day was on September  22\n",
      "The second hottest day was on September  14\n"
     ]
    }
   ],
   "source": [
    "SepTemp={1:85,2:83,3:84,4:84,5:82,6:87,7:86,8:85,9:81,10:82,11:84,12:87,13:89,\n",
    "        14:90,15:84,16:85,17:89,18:89,19:86,20:78,21:78,22:70,23:71,24:75,25:77,\n",
    "         26:77,27:85,28:87,29:91,30:86}\n",
    "\n",
    "for i in SepTemp:\n",
    "    SepTemp[i]=(SepTemp[i]-32)*5/9\n",
    "print(SepTemp)\n",
    "\n",
    "x=list(SepTemp.values())\n",
    "y=list(SepTemp.keys())\n",
    "coolest=min(SepTemp.values())\n",
    "for key in SepTemp:\n",
    "    if SepTemp[key]==coolest:\n",
    "        print(\"The coolest day was on September \", key)\n",
    "max2= (list(sorted(SepTemp.values()))[-2])\n",
    "for key in SepTemp:\n",
    "    if SepTemp[key]==max2:\n",
    "        print(\"The second hottest day was on September \", key)"
   ]
  },
  {
   "cell_type": "markdown",
   "id": "bd1e5dbb",
   "metadata": {},
   "source": [
    "## c. Explanations"
   ]
  },
  {
   "cell_type": "code",
   "execution_count": 5,
   "id": "38e363dd",
   "metadata": {},
   "outputs": [
    {
     "name": "stdout",
     "output_type": "stream",
     "text": [
      "{'b', 'e', 'a'}\n"
     ]
    }
   ],
   "source": [
    "#1. symmetric difference (^) - a set of elements that are in either set, but not in their intersection.\n",
    "\n",
    "A = {'a', 'b', 'c', 'd'}\n",
    "B = {'c', 'd', 'e' }\n",
    "C = {}\n",
    "print(A.symmetric_difference(B))"
   ]
  },
  {
   "cell_type": "code",
   "execution_count": 6,
   "id": "62d179df",
   "metadata": {},
   "outputs": [
    {
     "name": "stdout",
     "output_type": "stream",
     "text": [
      "Are A and B disjoint? True\n",
      "Are A and C disjoint? False\n"
     ]
    }
   ],
   "source": [
    "#2. isdisjoint() - returns True if two sets are disjoint sets. If not, it returns False\n",
    "\n",
    "A = {1, 2, 3, 4}\n",
    "B = {5, 6, 7}\n",
    "C = {4, 5, 6}\n",
    "\n",
    "print('Are A and B disjoint?', A.isdisjoint(B))\n",
    "print('Are A and C disjoint?', A.isdisjoint(C))"
   ]
  },
  {
   "cell_type": "code",
   "execution_count": 7,
   "id": "74d96d35",
   "metadata": {},
   "outputs": [
    {
     "name": "stdout",
     "output_type": "stream",
     "text": [
      "result = None\n",
      "A = {2, 3, 4}\n",
      "B = {2, 3, 4, 5}\n"
     ]
    }
   ],
   "source": [
    "#3. intersection_update() - updates the set calling intersection_update() method with the intersection of sets.\n",
    "\n",
    "A = {1, 2, 3, 4}\n",
    "B = {2, 3, 4, 5}\n",
    "\n",
    "result = A.intersection_update(B)\n",
    "\n",
    "print('result =', result)\n",
    "print('A =', A)\n",
    "print('B =', B)"
   ]
  },
  {
   "cell_type": "code",
   "execution_count": 9,
   "id": "cbff62c8",
   "metadata": {},
   "outputs": [
    {
     "name": "stdout",
     "output_type": "stream",
     "text": [
      "{'b', 'e', 'a'}\n"
     ]
    }
   ],
   "source": [
    "#4. symmetric difference (^=) - a set of elements that are in either set, but not in their intersection.\n",
    "\n",
    "A = {'a', 'b', 'c', 'd'}\n",
    "B = {'c', 'd', 'e' }\n",
    "C = {}\n",
    "print(A^B)"
   ]
  },
  {
   "cell_type": "code",
   "execution_count": 10,
   "id": "314c6fe1",
   "metadata": {},
   "outputs": [
    {
     "name": "stdout",
     "output_type": "stream",
     "text": [
      "{'Python', 'Java'}\n",
      "numbers =  {2, 4, 5}\n",
      "Return Value is a\n",
      "A =  {'c', 'b', 'd'}\n"
     ]
    }
   ],
   "source": [
    "#5. remove()- removes the specified element from the set\n",
    "languages = {'Python', 'Java', 'English'}\n",
    "languages.remove('English')\n",
    "print(languages)\n",
    "# discard()- removes a specified element from the set (if present)\n",
    "numbers = {2, 3, 4, 5}\n",
    "numbers.discard(3)\n",
    "print('numbers = ', numbers)\n",
    "# pop()- removes an arbitrary element from the set and returns the element removed\n",
    "A ={'a', 'b', 'c', 'd'}\n",
    "print('Return Value is', A.pop())\n",
    "print('A = ', A)"
   ]
  },
  {
   "cell_type": "code",
   "execution_count": null,
   "id": "8c1e8dd4",
   "metadata": {},
   "outputs": [],
   "source": []
  }
 ],
 "metadata": {
  "kernelspec": {
   "display_name": "Python 3",
   "language": "python",
   "name": "python3"
  },
  "language_info": {
   "codemirror_mode": {
    "name": "ipython",
    "version": 3
   },
   "file_extension": ".py",
   "mimetype": "text/x-python",
   "name": "python",
   "nbconvert_exporter": "python",
   "pygments_lexer": "ipython3",
   "version": "3.8.8"
  }
 },
 "nbformat": 4,
 "nbformat_minor": 5
}
